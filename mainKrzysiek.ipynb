{
 "cells": [
  {
   "cell_type": "markdown",
   "metadata": {},
   "source": [
    "#Generowanie klucza Prywatnego RSA:"
   ]
  },
  {
   "cell_type": "code",
   "execution_count": 11,
   "metadata": {},
   "outputs": [],
   "source": [
    "from cryptography.hazmat.backends import default_backend\n",
    "from cryptography.hazmat.primitives import serialization\n",
    "from cryptography.hazmat.primitives.asymmetric import rsa\n",
    "from cryptography.hazmat.primitives.serialization import Encoding, PublicFormat\n",
    "from cryptography.hazmat.primitives.hashes import SHA256\n",
    "from cryptography.hazmat.primitives.kdf.pbkdf2 import PBKDF2HMAC\n",
    "import os\n",
    "\n",
    "# Funkcja do generowania klucza prywatnego RSA z hasłem\n",
    "def generate_encrypted_private_key(password, salt):\n",
    "    private_key = rsa.generate_private_key(\n",
    "        public_exponent=65537,\n",
    "        key_size=2048,\n",
    "        backend=default_backend()\n",
    "    )\n",
    "\n",
    "    # Utwórz kdf (Key Derivation Function) z hasłem i solą\n",
    "    kdf = PBKDF2HMAC(\n",
    "        algorithm=SHA256(),\n",
    "        length=32,\n",
    "        salt=salt,\n",
    "        iterations=100000,\n",
    "        backend=default_backend()\n",
    "    )\n",
    "\n",
    "    # Wygeneruj klucz na podstawie hasła\n",
    "    key = kdf.derive(password)\n",
    "\n",
    "    # Ustaw algorytm szyfrowania AES-CBC z hasłem\n",
    "    encryption_algorithm = serialization.BestAvailableEncryption(key)\n",
    "\n",
    "    # Konwertuj klucz prywatny do formatu PEM i zaszyfruj go\n",
    "    private_key_pem = private_key.private_bytes(\n",
    "        encoding=serialization.Encoding.PEM,\n",
    "        format=serialization.PrivateFormat.PKCS8,\n",
    "        encryption_algorithm=encryption_algorithm\n",
    "    )\n",
    "\n",
    "    return private_key_pem\n",
    "\n",
    "# Hasło, które będzie używane do szyfrowania klucza\n",
    "password = b\"aaa\"\n",
    "\n",
    "# Losowa sól\n",
    "salt = os.urandom(16)\n",
    "\n",
    "# Wygeneruj zaszyfrowany klucz prywatny RSA\n",
    "encrypted_private_key = generate_encrypted_private_key(password, salt)\n",
    "\n",
    "# Zapis klucza prywatnego do pliku\n",
    "with open(\"private_key.pem\", \"wb\") as f:\n",
    "    f.write(encrypted_private_key)\n"
   ]
  },
  {
   "cell_type": "markdown",
   "metadata": {},
   "source": [
    "### Generowanie klucza publicznego"
   ]
  },
  {
   "cell_type": "code",
   "execution_count": 12,
   "metadata": {},
   "outputs": [
    {
     "ename": "ValueError",
     "evalue": "Bad decrypt. Incorrect password?",
     "output_type": "error",
     "traceback": [
      "\u001b[1;31m---------------------------------------------------------------------------\u001b[0m",
      "\u001b[1;31mValueError\u001b[0m                                Traceback (most recent call last)",
      "Cell \u001b[1;32mIn[12], line 8\u001b[0m\n\u001b[0;32m      5\u001b[0m password \u001b[38;5;241m=\u001b[39m \u001b[38;5;124mb\u001b[39m\u001b[38;5;124m\"\u001b[39m\u001b[38;5;124maaa\u001b[39m\u001b[38;5;124m\"\u001b[39m\n\u001b[0;32m      7\u001b[0m \u001b[38;5;66;03m# Odczytaj zaszyfrowany klucz prywatny\u001b[39;00m\n\u001b[1;32m----> 8\u001b[0m private_key \u001b[38;5;241m=\u001b[39m \u001b[43mserialization\u001b[49m\u001b[38;5;241;43m.\u001b[39;49m\u001b[43mload_pem_private_key\u001b[49m\u001b[43m(\u001b[49m\n\u001b[0;32m      9\u001b[0m \u001b[43m    \u001b[49m\u001b[43mprivate_key_pem\u001b[49m\u001b[43m,\u001b[49m\n\u001b[0;32m     10\u001b[0m \u001b[43m    \u001b[49m\u001b[43mpassword\u001b[49m\u001b[38;5;241;43m=\u001b[39;49m\u001b[43mpassword\u001b[49m\u001b[43m,\u001b[49m\u001b[43m  \u001b[49m\u001b[38;5;66;43;03m# hasło użyte do zaszyfrowania klucza prywatnego\u001b[39;49;00m\n\u001b[0;32m     11\u001b[0m \u001b[43m    \u001b[49m\u001b[43mbackend\u001b[49m\u001b[38;5;241;43m=\u001b[39;49m\u001b[43mdefault_backend\u001b[49m\u001b[43m(\u001b[49m\u001b[43m)\u001b[49m\n\u001b[0;32m     12\u001b[0m \u001b[43m)\u001b[49m\n\u001b[0;32m     14\u001b[0m \u001b[38;5;66;03m# Wygeneruj klucz publiczny\u001b[39;00m\n\u001b[0;32m     15\u001b[0m public_key \u001b[38;5;241m=\u001b[39m private_key\u001b[38;5;241m.\u001b[39mpublic_key()\n",
      "File \u001b[1;32mc:\\Users\\krzys\\anaconda3\\envs\\Erasmus_AI\\lib\\site-packages\\cryptography\\hazmat\\primitives\\serialization\\base.py:25\u001b[0m, in \u001b[0;36mload_pem_private_key\u001b[1;34m(data, password, backend, unsafe_skip_rsa_key_validation)\u001b[0m\n\u001b[0;32m     16\u001b[0m \u001b[38;5;28;01mdef\u001b[39;00m \u001b[38;5;21mload_pem_private_key\u001b[39m(\n\u001b[0;32m     17\u001b[0m     data: \u001b[38;5;28mbytes\u001b[39m,\n\u001b[0;32m     18\u001b[0m     password: typing\u001b[38;5;241m.\u001b[39mOptional[\u001b[38;5;28mbytes\u001b[39m],\n\u001b[1;32m   (...)\u001b[0m\n\u001b[0;32m     21\u001b[0m     unsafe_skip_rsa_key_validation: \u001b[38;5;28mbool\u001b[39m \u001b[38;5;241m=\u001b[39m \u001b[38;5;28;01mFalse\u001b[39;00m,\n\u001b[0;32m     22\u001b[0m ) \u001b[38;5;241m-\u001b[39m\u001b[38;5;241m>\u001b[39m PrivateKeyTypes:\n\u001b[0;32m     23\u001b[0m     \u001b[38;5;28;01mfrom\u001b[39;00m \u001b[38;5;21;01mcryptography\u001b[39;00m\u001b[38;5;21;01m.\u001b[39;00m\u001b[38;5;21;01mhazmat\u001b[39;00m\u001b[38;5;21;01m.\u001b[39;00m\u001b[38;5;21;01mbackends\u001b[39;00m\u001b[38;5;21;01m.\u001b[39;00m\u001b[38;5;21;01mopenssl\u001b[39;00m\u001b[38;5;21;01m.\u001b[39;00m\u001b[38;5;21;01mbackend\u001b[39;00m \u001b[38;5;28;01mimport\u001b[39;00m backend \u001b[38;5;28;01mas\u001b[39;00m ossl\n\u001b[1;32m---> 25\u001b[0m     \u001b[38;5;28;01mreturn\u001b[39;00m \u001b[43mossl\u001b[49m\u001b[38;5;241;43m.\u001b[39;49m\u001b[43mload_pem_private_key\u001b[49m\u001b[43m(\u001b[49m\n\u001b[0;32m     26\u001b[0m \u001b[43m        \u001b[49m\u001b[43mdata\u001b[49m\u001b[43m,\u001b[49m\u001b[43m \u001b[49m\u001b[43mpassword\u001b[49m\u001b[43m,\u001b[49m\u001b[43m \u001b[49m\u001b[43munsafe_skip_rsa_key_validation\u001b[49m\n\u001b[0;32m     27\u001b[0m \u001b[43m    \u001b[49m\u001b[43m)\u001b[49m\n",
      "File \u001b[1;32mc:\\Users\\krzys\\anaconda3\\envs\\Erasmus_AI\\lib\\site-packages\\cryptography\\hazmat\\backends\\openssl\\backend.py:747\u001b[0m, in \u001b[0;36mBackend.load_pem_private_key\u001b[1;34m(self, data, password, unsafe_skip_rsa_key_validation)\u001b[0m\n\u001b[0;32m    741\u001b[0m \u001b[38;5;28;01mdef\u001b[39;00m \u001b[38;5;21mload_pem_private_key\u001b[39m(\n\u001b[0;32m    742\u001b[0m     \u001b[38;5;28mself\u001b[39m,\n\u001b[0;32m    743\u001b[0m     data: \u001b[38;5;28mbytes\u001b[39m,\n\u001b[0;32m    744\u001b[0m     password: typing\u001b[38;5;241m.\u001b[39mOptional[\u001b[38;5;28mbytes\u001b[39m],\n\u001b[0;32m    745\u001b[0m     unsafe_skip_rsa_key_validation: \u001b[38;5;28mbool\u001b[39m,\n\u001b[0;32m    746\u001b[0m ) \u001b[38;5;241m-\u001b[39m\u001b[38;5;241m>\u001b[39m PrivateKeyTypes:\n\u001b[1;32m--> 747\u001b[0m     \u001b[38;5;28;01mreturn\u001b[39;00m \u001b[38;5;28;43mself\u001b[39;49m\u001b[38;5;241;43m.\u001b[39;49m\u001b[43m_load_key\u001b[49m\u001b[43m(\u001b[49m\n\u001b[0;32m    748\u001b[0m \u001b[43m        \u001b[49m\u001b[38;5;28;43mself\u001b[39;49m\u001b[38;5;241;43m.\u001b[39;49m\u001b[43m_lib\u001b[49m\u001b[38;5;241;43m.\u001b[39;49m\u001b[43mPEM_read_bio_PrivateKey\u001b[49m\u001b[43m,\u001b[49m\n\u001b[0;32m    749\u001b[0m \u001b[43m        \u001b[49m\u001b[43mdata\u001b[49m\u001b[43m,\u001b[49m\n\u001b[0;32m    750\u001b[0m \u001b[43m        \u001b[49m\u001b[43mpassword\u001b[49m\u001b[43m,\u001b[49m\n\u001b[0;32m    751\u001b[0m \u001b[43m        \u001b[49m\u001b[43munsafe_skip_rsa_key_validation\u001b[49m\u001b[43m,\u001b[49m\n\u001b[0;32m    752\u001b[0m \u001b[43m    \u001b[49m\u001b[43m)\u001b[49m\n",
      "File \u001b[1;32mc:\\Users\\krzys\\anaconda3\\envs\\Erasmus_AI\\lib\\site-packages\\cryptography\\hazmat\\backends\\openssl\\backend.py:929\u001b[0m, in \u001b[0;36mBackend._load_key\u001b[1;34m(self, openssl_read_func, data, password, unsafe_skip_rsa_key_validation)\u001b[0m\n\u001b[0;32m    924\u001b[0m             \u001b[38;5;28;01mraise\u001b[39;00m \u001b[38;5;167;01mValueError\u001b[39;00m(\n\u001b[0;32m    925\u001b[0m                 \u001b[38;5;124m\"\u001b[39m\u001b[38;5;124mPasswords longer than \u001b[39m\u001b[38;5;132;01m{}\u001b[39;00m\u001b[38;5;124m bytes are not supported \u001b[39m\u001b[38;5;124m\"\u001b[39m\n\u001b[0;32m    926\u001b[0m                 \u001b[38;5;124m\"\u001b[39m\u001b[38;5;124mby this backend.\u001b[39m\u001b[38;5;124m\"\u001b[39m\u001b[38;5;241m.\u001b[39mformat(userdata\u001b[38;5;241m.\u001b[39mmaxsize \u001b[38;5;241m-\u001b[39m \u001b[38;5;241m1\u001b[39m)\n\u001b[0;32m    927\u001b[0m             )\n\u001b[0;32m    928\u001b[0m     \u001b[38;5;28;01melse\u001b[39;00m:\n\u001b[1;32m--> 929\u001b[0m         \u001b[38;5;28;43mself\u001b[39;49m\u001b[38;5;241;43m.\u001b[39;49m\u001b[43m_handle_key_loading_error\u001b[49m\u001b[43m(\u001b[49m\u001b[43m)\u001b[49m\n\u001b[0;32m    931\u001b[0m evp_pkey \u001b[38;5;241m=\u001b[39m \u001b[38;5;28mself\u001b[39m\u001b[38;5;241m.\u001b[39m_ffi\u001b[38;5;241m.\u001b[39mgc(evp_pkey, \u001b[38;5;28mself\u001b[39m\u001b[38;5;241m.\u001b[39m_lib\u001b[38;5;241m.\u001b[39mEVP_PKEY_free)\n\u001b[0;32m    933\u001b[0m \u001b[38;5;28;01mif\u001b[39;00m password \u001b[38;5;129;01mis\u001b[39;00m \u001b[38;5;129;01mnot\u001b[39;00m \u001b[38;5;28;01mNone\u001b[39;00m \u001b[38;5;129;01mand\u001b[39;00m userdata\u001b[38;5;241m.\u001b[39mcalled \u001b[38;5;241m==\u001b[39m \u001b[38;5;241m0\u001b[39m:\n",
      "File \u001b[1;32mc:\\Users\\krzys\\anaconda3\\envs\\Erasmus_AI\\lib\\site-packages\\cryptography\\hazmat\\backends\\openssl\\backend.py:972\u001b[0m, in \u001b[0;36mBackend._handle_key_loading_error\u001b[1;34m(self)\u001b[0m\n\u001b[0;32m    950\u001b[0m     \u001b[38;5;28;01mraise\u001b[39;00m \u001b[38;5;167;01mValueError\u001b[39;00m(\n\u001b[0;32m    951\u001b[0m         \u001b[38;5;124m\"\u001b[39m\u001b[38;5;124mCould not deserialize key data. The data may be in an \u001b[39m\u001b[38;5;124m\"\u001b[39m\n\u001b[0;32m    952\u001b[0m         \u001b[38;5;124m\"\u001b[39m\u001b[38;5;124mincorrect format or it may be encrypted with an unsupported \u001b[39m\u001b[38;5;124m\"\u001b[39m\n\u001b[0;32m    953\u001b[0m         \u001b[38;5;124m\"\u001b[39m\u001b[38;5;124malgorithm.\u001b[39m\u001b[38;5;124m\"\u001b[39m\n\u001b[0;32m    954\u001b[0m     )\n\u001b[0;32m    956\u001b[0m \u001b[38;5;28;01melif\u001b[39;00m (\n\u001b[0;32m    957\u001b[0m     errors[\u001b[38;5;241m0\u001b[39m]\u001b[38;5;241m.\u001b[39m_lib_reason_match(\n\u001b[0;32m    958\u001b[0m         \u001b[38;5;28mself\u001b[39m\u001b[38;5;241m.\u001b[39m_lib\u001b[38;5;241m.\u001b[39mERR_LIB_EVP, \u001b[38;5;28mself\u001b[39m\u001b[38;5;241m.\u001b[39m_lib\u001b[38;5;241m.\u001b[39mEVP_R_BAD_DECRYPT\n\u001b[1;32m   (...)\u001b[0m\n\u001b[0;32m    970\u001b[0m     )\n\u001b[0;32m    971\u001b[0m ):\n\u001b[1;32m--> 972\u001b[0m     \u001b[38;5;28;01mraise\u001b[39;00m \u001b[38;5;167;01mValueError\u001b[39;00m(\u001b[38;5;124m\"\u001b[39m\u001b[38;5;124mBad decrypt. Incorrect password?\u001b[39m\u001b[38;5;124m\"\u001b[39m)\n\u001b[0;32m    974\u001b[0m \u001b[38;5;28;01melif\u001b[39;00m \u001b[38;5;28many\u001b[39m(\n\u001b[0;32m    975\u001b[0m     error\u001b[38;5;241m.\u001b[39m_lib_reason_match(\n\u001b[0;32m    976\u001b[0m         \u001b[38;5;28mself\u001b[39m\u001b[38;5;241m.\u001b[39m_lib\u001b[38;5;241m.\u001b[39mERR_LIB_EVP,\n\u001b[1;32m   (...)\u001b[0m\n\u001b[0;32m    979\u001b[0m     \u001b[38;5;28;01mfor\u001b[39;00m error \u001b[38;5;129;01min\u001b[39;00m errors\n\u001b[0;32m    980\u001b[0m ):\n\u001b[0;32m    981\u001b[0m     \u001b[38;5;28;01mraise\u001b[39;00m \u001b[38;5;167;01mValueError\u001b[39;00m(\u001b[38;5;124m\"\u001b[39m\u001b[38;5;124mUnsupported public key algorithm.\u001b[39m\u001b[38;5;124m\"\u001b[39m)\n",
      "\u001b[1;31mValueError\u001b[0m: Bad decrypt. Incorrect password?"
     ]
    }
   ],
   "source": [
    "# Wczytaj klucz prywatny\n",
    "with open(\"private_key.pem\", \"rb\") as f:\n",
    "    private_key_pem = f.read()\n",
    "\n",
    "password = b\"aaa\"\n",
    "\n",
    "# Odczytaj zaszyfrowany klucz prywatny\n",
    "private_key = serialization.load_pem_private_key(\n",
    "    private_key_pem,\n",
    "    password=password,  # hasło użyte do zaszyfrowania klucza prywatnego\n",
    "    backend=default_backend()\n",
    ")\n",
    "\n",
    "# Wygeneruj klucz publiczny\n",
    "public_key = private_key.public_key()\n",
    "\n",
    "# Konwersja klucza publicznego do formatu PEM\n",
    "public_key_pem = public_key.public_bytes(\n",
    "    encoding=serialization.Encoding.PEM,\n",
    "    format=serialization.PublicFormat.SubjectPublicKeyInfo\n",
    ")\n",
    "\n",
    "# Zapisz klucz publiczny do pliku\n",
    "with open(\"public_key.pem\", \"wb\") as f:\n",
    "    f.write(public_key_pem)\n"
   ]
  }
 ],
 "metadata": {
  "kernelspec": {
   "display_name": "Erasmus_AI",
   "language": "python",
   "name": "python3"
  },
  "language_info": {
   "codemirror_mode": {
    "name": "ipython",
    "version": 3
   },
   "file_extension": ".py",
   "mimetype": "text/x-python",
   "name": "python",
   "nbconvert_exporter": "python",
   "pygments_lexer": "ipython3",
   "version": "3.8.18"
  }
 },
 "nbformat": 4,
 "nbformat_minor": 2
}
